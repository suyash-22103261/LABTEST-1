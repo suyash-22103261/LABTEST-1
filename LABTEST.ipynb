{
 "cells": [
  {
   "cell_type": "code",
   "execution_count": 29,
   "id": "4370af7e-3529-4908-94a8-450f0ae15d82",
   "metadata": {},
   "outputs": [
    {
     "name": "stdout",
     "output_type": "stream",
     "text": [
      "1. Display Inventory\n",
      "2. Add New Medicine\n",
      "3. Update Medicine Quantities (Sales)\n",
      "4. Show Total Sales and Profit\n",
      "5. Exit\n"
     ]
    },
    {
     "name": "stdin",
     "output_type": "stream",
     "text": [
      "Enter your choice:  1\n"
     ]
    },
    {
     "name": "stdout",
     "output_type": "stream",
     "text": [
      "Medicine        Price    Quantity\n",
      "Paracetamol     0.5      100     \n",
      "Aspirin         1.0      50      \n",
      "Ibuprofen       0.75     75      \n",
      "Cough Syrup     3.0      20      \n",
      "1. Display Inventory\n",
      "2. Add New Medicine\n",
      "3. Update Medicine Quantities (Sales)\n",
      "4. Show Total Sales and Profit\n",
      "5. Exit\n"
     ]
    },
    {
     "name": "stdin",
     "output_type": "stream",
     "text": [
      "Enter your choice:  2\n",
      "Enter medicine name:  TELE\n",
      "Enter medicine price:  23\n",
      "Enter medicine quantity:  23\n"
     ]
    },
    {
     "name": "stdout",
     "output_type": "stream",
     "text": [
      "Medicine 'TELE' added to the inventory.\n",
      "1. Display Inventory\n",
      "2. Add New Medicine\n",
      "3. Update Medicine Quantities (Sales)\n",
      "4. Show Total Sales and Profit\n",
      "5. Exit\n"
     ]
    },
    {
     "name": "stdin",
     "output_type": "stream",
     "text": [
      "Enter your choice:  3\n",
      "Enter medicine name:  TELE\n",
      "Enter quantity sold:  3\n"
     ]
    },
    {
     "name": "stdout",
     "output_type": "stream",
     "text": [
      "Sold 3 units of TELE. Sales: $69.00, Profit: $13.80\n",
      "1. Display Inventory\n",
      "2. Add New Medicine\n",
      "3. Update Medicine Quantities (Sales)\n",
      "4. Show Total Sales and Profit\n",
      "5. Exit\n"
     ]
    },
    {
     "name": "stdin",
     "output_type": "stream",
     "text": [
      "Enter your choice:  4\n"
     ]
    },
    {
     "name": "stdout",
     "output_type": "stream",
     "text": [
      "\n",
      "Total Sales for the Day: $69.00\n",
      "Total Profit for the Day: $13.80\n",
      "1. Display Inventory\n",
      "2. Add New Medicine\n",
      "3. Update Medicine Quantities (Sales)\n",
      "4. Show Total Sales and Profit\n",
      "5. Exit\n"
     ]
    },
    {
     "name": "stdin",
     "output_type": "stream",
     "text": [
      "Enter your choice:  5\n"
     ]
    },
    {
     "name": "stdout",
     "output_type": "stream",
     "text": [
      "Exiting Chemist Shop.\n"
     ]
    }
   ],
   "source": [
    "import numpy as np\n",
    "import matplotlib.pyplot as plt\n",
    "\n",
    "inventory_dtype = [('name', 'U20'), ('price', 'f4'), ('quantity', 'i4')]\n",
    "\n",
    "inventory = np.array([\n",
    "    ('Paracetamol', 0.5, 100),\n",
    "    ('Aspirin', 1.0, 50),\n",
    "    ('Ibuprofen', 0.75, 75),\n",
    "    ('Cough Syrup', 3.0, 20)\n",
    "], dtype=inventory_dtype)\n",
    "\n",
    "total_sales = 0.0\n",
    "total_profit = 0.01\n",
    "\n",
    "\n",
    "def display_inventory():\n",
    "    print(f\"{'Medicine':<15} {'Price':<8} {'Quantity':<8}\")\n",
    "    for item in inventory:\n",
    "        print(f\"{item['name']:<15} {item['price']:<8} {item['quantity']:<8}\")\n",
    "\n",
    "def add_new_medicine(name, price, quantity):\n",
    "    global inventory\n",
    "    new_medicine = np.array([(name, price, quantity)], dtype=inventory_dtype)\n",
    "    inventory = np.append(inventory, new_medicine)\n",
    "    print(f\"Medicine '{name}' added to the inventory.\")\n",
    "\n",
    "def update_medicine(name, quantity_sold):\n",
    "    global total_sales, total_profit\n",
    "    for idx, item in enumerate(inventory):\n",
    "        if item['name'] == name:\n",
    "            if item['quantity'] >= quantity_sold:\n",
    "                inventory[idx]['quantity'] -= quantity_sold\n",
    "                sales_value = item['price'] * quantity_sold\n",
    "                profit = sales_value * 0.2  \n",
    "                total_sales += sales_value\n",
    "                total_profit += profit\n",
    "                print(f\"Sold {quantity_sold} units of {name}. Sales: ${sales_value:.2f}, Profit: ${profit:.2f}\")\n",
    "            else:\n",
    "                print(f\"Not enough stock of {name}. Only {item['quantity']} units left.\")\n",
    "            return\n",
    "    print(f\"Medicine '{name}' not found in the inventory.\")\n",
    "\n",
    "def display_total_sales_and_profit():\n",
    "    print(f\"\\nTotal Sales for the Day: ${total_sales:.2f}\")\n",
    "    print(f\"Total Profit for the Day: ${total_profit:.2f}\")\n",
    "\n",
    "def main_menu():\n",
    "    while True:\n",
    "        print(\"1. Display Inventory\")\n",
    "        print(\"2. Add New Medicine\")\n",
    "        print(\"3. Update Medicine Quantities (Sales)\")\n",
    "        print(\"4. Show Total Sales and Profit\")\n",
    "        print(\"5. Exit\")\n",
    "        \n",
    "        choice = input(\"Enter your choice: \")\n",
    "\n",
    "        if choice == '1':\n",
    "            display_inventory()\n",
    "        elif choice == '2':\n",
    "            name = input(\"Enter medicine name: \")\n",
    "            price = float(input(\"Enter medicine price: \"))\n",
    "            quantity = int(input(\"Enter medicine quantity: \"))\n",
    "            add_new_medicine(name, price, quantity)\n",
    "        elif choice == '3':\n",
    "            name = input(\"Enter medicine name: \")\n",
    "            quantity_sold = int(input(\"Enter quantity sold: \"))\n",
    "            update_medicine(name, quantity_sold)\n",
    "        elif choice == '4':\n",
    "            display_total_sales_and_profit()\n",
    "        elif choice == '5':\n",
    "            print(\"Exiting Chemist Shop.\")\n",
    "            break\n",
    "        else:\n",
    "            print(\"Invalid choice. Please try again.\")\n",
    "\n",
    "\n",
    "main_menu()\n",
    "\n"
   ]
  },
  {
   "cell_type": "code",
   "execution_count": null,
   "id": "48838e2e-3412-48fc-90e8-360de9f7b246",
   "metadata": {},
   "outputs": [],
   "source": []
  },
  {
   "cell_type": "code",
   "execution_count": null,
   "id": "e2286753-b1c7-4476-ba7d-aa178047ef77",
   "metadata": {},
   "outputs": [],
   "source": []
  }
 ],
 "metadata": {
  "kernelspec": {
   "display_name": "Python 3 (ipykernel)",
   "language": "python",
   "name": "python3"
  },
  "language_info": {
   "codemirror_mode": {
    "name": "ipython",
    "version": 3
   },
   "file_extension": ".py",
   "mimetype": "text/x-python",
   "name": "python",
   "nbconvert_exporter": "python",
   "pygments_lexer": "ipython3",
   "version": "3.12.4"
  }
 },
 "nbformat": 4,
 "nbformat_minor": 5
}
